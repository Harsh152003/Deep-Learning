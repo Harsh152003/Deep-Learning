{
  "nbformat": 4,
  "nbformat_minor": 0,
  "metadata": {
    "colab": {
      "provenance": [],
      "authorship_tag": "ABX9TyM06qGRjzVz1e+jdZAuyy8n",
      "include_colab_link": true
    },
    "kernelspec": {
      "name": "python3",
      "display_name": "Python 3"
    },
    "language_info": {
      "name": "python"
    }
  },
  "cells": [
    {
      "cell_type": "markdown",
      "metadata": {
        "id": "view-in-github",
        "colab_type": "text"
      },
      "source": [
        "<a href=\"https://colab.research.google.com/github/Harsh152003/Deep-Learning/blob/main/Conv_Temp.ipynb\" target=\"_parent\"><img src=\"https://colab.research.google.com/assets/colab-badge.svg\" alt=\"Open In Colab\"/></a>"
      ]
    },
    {
      "cell_type": "code",
      "execution_count": null,
      "metadata": {
        "id": "HfJ2nUFrNA5p"
      },
      "outputs": [],
      "source": [
        "from tensorflow import keras\n",
        "from tensorflow.keras import layers\n",
        "import pandas as pd"
      ]
    },
    {
      "cell_type": "code",
      "source": [
        "df = pd.read_csv('training.csv')"
      ],
      "metadata": {
        "id": "Ef0Zw5OQNQM9"
      },
      "execution_count": null,
      "outputs": []
    },
    {
      "cell_type": "code",
      "source": [
        "Celsius = df.iloc[:, 0].values\n",
        "Fahrenheit = df.iloc[:, 1].values"
      ],
      "metadata": {
        "id": "WzJ6tNyrSGYC"
      },
      "execution_count": null,
      "outputs": []
    },
    {
      "cell_type": "code",
      "source": [
        "df.head"
      ],
      "metadata": {
        "colab": {
          "base_uri": "https://localhost:8080/"
        },
        "id": "0Dt3JaKpNtp-",
        "outputId": "09c927fe-6755-4d49-fffe-03e3a40f482c"
      },
      "execution_count": null,
      "outputs": [
        {
          "output_type": "execute_result",
          "data": {
            "text/plain": [
              "<bound method NDFrame.head of        Celsius  Fahrenheit\n",
              "0         1169      2136.2\n",
              "1         1280      2336.0\n",
              "2         2380      4316.0\n",
              "3         1508      2746.4\n",
              "4         2015      3659.0\n",
              "...        ...         ...\n",
              "15995      833      1531.4\n",
              "15996      757      1394.6\n",
              "15997     1584      2883.2\n",
              "15998     2396      4344.8\n",
              "15999        0        32.0\n",
              "\n",
              "[16000 rows x 2 columns]>"
            ]
          },
          "metadata": {},
          "execution_count": 4
        }
      ]
    },
    {
      "cell_type": "code",
      "source": [
        "df.shape"
      ],
      "metadata": {
        "colab": {
          "base_uri": "https://localhost:8080/"
        },
        "id": "QJDQ38myOZfi",
        "outputId": "43d3a4e9-a495-4704-dd48-67cb40d457b8"
      },
      "execution_count": null,
      "outputs": [
        {
          "output_type": "execute_result",
          "data": {
            "text/plain": [
              "(16000, 2)"
            ]
          },
          "metadata": {},
          "execution_count": 5
        }
      ]
    },
    {
      "cell_type": "code",
      "source": [
        "model = keras.Sequential([layers.Dense(2, activation = 'relu', input_shape = [1]),\n",
        "                          layers.Dense(2, activation = 'relu'),\n",
        "                          layers.Dense(1)])"
      ],
      "metadata": {
        "id": "fPOvzgimOqqt"
      },
      "execution_count": null,
      "outputs": []
    },
    {
      "cell_type": "code",
      "source": [
        "model.compile(loss = 'mean_squared_error',\n",
        "              optimizer = 'adam')"
      ],
      "metadata": {
        "id": "T7TrN2zLP8na"
      },
      "execution_count": null,
      "outputs": []
    },
    {
      "cell_type": "code",
      "source": [
        "history = model.fit(Celsius, Fahrenheit,\n",
        "                    batch_size = 1024,\n",
        "                    epochs = 10)"
      ],
      "metadata": {
        "colab": {
          "base_uri": "https://localhost:8080/"
        },
        "id": "5fUp6ySZQUPb",
        "outputId": "3aa1d754-7acd-4fee-a591-2a2cc0a5fa9b"
      },
      "execution_count": null,
      "outputs": [
        {
          "output_type": "stream",
          "name": "stdout",
          "text": [
            "Epoch 1/10\n",
            "16/16 [==============================] - 0s 2ms/step - loss: 7.8149e-07\n",
            "Epoch 2/10\n",
            "16/16 [==============================] - 0s 2ms/step - loss: 3.0010e-07\n",
            "Epoch 3/10\n",
            "16/16 [==============================] - 0s 2ms/step - loss: 1.0427e-06\n",
            "Epoch 4/10\n",
            "16/16 [==============================] - 0s 2ms/step - loss: 7.5984e-07\n",
            "Epoch 5/10\n",
            "16/16 [==============================] - 0s 3ms/step - loss: 6.8989e-07\n",
            "Epoch 6/10\n",
            "16/16 [==============================] - 0s 2ms/step - loss: 4.1403e-07\n",
            "Epoch 7/10\n",
            "16/16 [==============================] - 0s 2ms/step - loss: 8.3800e-07\n",
            "Epoch 8/10\n",
            "16/16 [==============================] - 0s 2ms/step - loss: 1.6816e-06\n",
            "Epoch 9/10\n",
            "16/16 [==============================] - 0s 2ms/step - loss: 2.9385e-06\n",
            "Epoch 10/10\n",
            "16/16 [==============================] - 0s 2ms/step - loss: 6.7930e-07\n"
          ]
        }
      ]
    },
    {
      "cell_type": "code",
      "source": [
        "cel = float(input('Enter temperature in Celsius'))\n",
        "fah = model.predict([Celsius])\n",
        "print(f\"{cel} degrees Celsius is approximately {fah} degrees Fahrenheit.\")"
      ],
      "metadata": {
        "colab": {
          "base_uri": "https://localhost:8080/"
        },
        "id": "mpkgjUD4Sivh",
        "outputId": "82fb7520-3d61-4cbb-eda1-0ac4fba5f235"
      },
      "execution_count": null,
      "outputs": [
        {
          "output_type": "stream",
          "name": "stdout",
          "text": [
            "Enter temperature in Celsius0\n",
            "500/500 [==============================] - 1s 1ms/step\n",
            "0.0 degrees Celsius is approximately [[2136.2     ]\n",
            " [2336.      ]\n",
            " [4316.0005  ]\n",
            " ...\n",
            " [2883.2002  ]\n",
            " [4344.8003  ]\n",
            " [  31.999737]] degrees Fahrenheit.\n"
          ]
        }
      ]
    }
  ]
}