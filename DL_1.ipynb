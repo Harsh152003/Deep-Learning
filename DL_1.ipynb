{
  "nbformat": 4,
  "nbformat_minor": 0,
  "metadata": {
    "colab": {
      "provenance": []
    },
    "kernelspec": {
      "name": "python3",
      "display_name": "Python 3"
    },
    "language_info": {
      "name": "python"
    }
  },
  "cells": [
    {
      "cell_type": "code",
      "execution_count": 1,
      "metadata": {
        "colab": {
          "base_uri": "https://localhost:8080/"
        },
        "id": "LBjSrpliTNJA",
        "outputId": "e9f0e41b-ffc0-4c42-9d1f-39b90442649c"
      },
      "outputs": [
        {
          "output_type": "stream",
          "name": "stdout",
          "text": [
            "[0 1 2 3 4 5 6 7 8 9]\n"
          ]
        }
      ],
      "source": [
        "import numpy as np\n",
        "arr_1d = np.arange(10)\n",
        "print(arr_1d)"
      ]
    },
    {
      "cell_type": "code",
      "source": [
        "arr_2d = np.random.randint(0, 9, size=(3, 4))\n",
        "print(arr_2d)\n"
      ],
      "metadata": {
        "colab": {
          "base_uri": "https://localhost:8080/"
        },
        "id": "xBs4pp6YTUd8",
        "outputId": "98a7c1e6-38dc-44b7-c7e0-52dfca635cc5"
      },
      "execution_count": 2,
      "outputs": [
        {
          "output_type": "stream",
          "name": "stdout",
          "text": [
            "[[7 5 6 0]\n",
            " [3 0 5 7]\n",
            " [6 2 1 0]]\n"
          ]
        }
      ]
    },
    {
      "cell_type": "code",
      "source": [
        "reshape = arr_2d.reshape(4, 3)\n",
        "print(reshape)\n"
      ],
      "metadata": {
        "colab": {
          "base_uri": "https://localhost:8080/"
        },
        "id": "8bSRcrD-TYdh",
        "outputId": "30be3e50-876a-47eb-d0a5-041d89887032"
      },
      "execution_count": 3,
      "outputs": [
        {
          "output_type": "stream",
          "name": "stdout",
          "text": [
            "[[7 5 6]\n",
            " [0 3 0]\n",
            " [5 7 6]\n",
            " [2 1 0]]\n"
          ]
        }
      ]
    },
    {
      "cell_type": "code",
      "source": [
        "arr_1d[2]"
      ],
      "metadata": {
        "colab": {
          "base_uri": "https://localhost:8080/"
        },
        "id": "JHyircHkTcP8",
        "outputId": "33714ff2-b87f-4554-b745-fe81e71a2c5f"
      },
      "execution_count": 4,
      "outputs": [
        {
          "output_type": "execute_result",
          "data": {
            "text/plain": [
              "2"
            ]
          },
          "metadata": {},
          "execution_count": 4
        }
      ]
    },
    {
      "cell_type": "code",
      "source": [
        "arr_2d[:, -2:]\n"
      ],
      "metadata": {
        "colab": {
          "base_uri": "https://localhost:8080/"
        },
        "id": "AWX3oaSBTcMd",
        "outputId": "8d7f56e5-e5ec-4acc-f74f-c32d18ac3df7"
      },
      "execution_count": 5,
      "outputs": [
        {
          "output_type": "execute_result",
          "data": {
            "text/plain": [
              "array([[6, 0],\n",
              "       [5, 7],\n",
              "       [1, 0]])"
            ]
          },
          "metadata": {},
          "execution_count": 5
        }
      ]
    },
    {
      "cell_type": "code",
      "source": [
        "matrix_3x3 = np.arange(9).reshape(3, 3)\n",
        "diagonal_elements = np.diagonal(matrix_3x3)\n",
        "print(diagonal_elements)"
      ],
      "metadata": {
        "id": "PWahDNifTcJt"
      },
      "execution_count": null,
      "outputs": []
    },
    {
      "cell_type": "code",
      "source": [
        "arr_a = np.array([1, 2, 3])\n",
        "arr_b = np.array([4, 5, 6])\n",
        "element_wise_multiplication = np.multiply(arr_a, arr_b)\n",
        "print(element_wise_multiplication)\n"
      ],
      "metadata": {
        "id": "bwyuFhvPTcHn"
      },
      "execution_count": null,
      "outputs": []
    },
    {
      "cell_type": "code",
      "source": [
        "mean = np.mean(arr_1d)\n",
        "median = np.median(arr_1d)\n",
        "std_dev = np.std(arr_1d)\n",
        "print(f\"Mean: {mean}, Median: {median}, Standard Deviation: {std_dev}\")\n"
      ],
      "metadata": {
        "id": "k_0n_5weTcFM"
      },
      "execution_count": null,
      "outputs": []
    },
    {
      "cell_type": "code",
      "source": [
        "normalized_array = (arr_1d - np.min(arr_1d)) / (np.max(arr_1d) - np.min(arr_1d))\n",
        "print(normalized_array)"
      ],
      "metadata": {
        "id": "QmFF6nXrTcDl"
      },
      "execution_count": null,
      "outputs": []
    },
    {
      "cell_type": "code",
      "source": [
        "np.concatenate((arr_1d, arr_1d, arr_1d))"
      ],
      "metadata": {
        "id": "c5hD4p86TcBf"
      },
      "execution_count": null,
      "outputs": []
    },
    {
      "cell_type": "code",
      "source": [
        "np.where(arr_1d % 2 == 0, -arr_1d, arr_1d)"
      ],
      "metadata": {
        "id": "hHuma8v8Tb_h"
      },
      "execution_count": null,
      "outputs": []
    },
    {
      "cell_type": "code",
      "source": [
        "constant_value = 5\n",
        "array_2D_modified = arr_2d + constant_value\n",
        "print(array_2D_modified)\n"
      ],
      "metadata": {
        "id": "jmctYUMnTb85"
      },
      "execution_count": null,
      "outputs": []
    },
    {
      "cell_type": "code",
      "source": [
        "arr_2d_modified = arr_2d + 2\n",
        "print(arr_2d_modified)\n"
      ],
      "metadata": {
        "id": "QuxwE_EyTb6W"
      },
      "execution_count": null,
      "outputs": []
    },
    {
      "cell_type": "code",
      "source": [
        "matrix_a = np.array([[1, 2], [3, 4]])\n",
        "matrix_b = np.array([[5, 6], [7, 8]])\n",
        "matrix_c = np.add(matrix_a, matrix_b)\n",
        "print(matrix_c)\n"
      ],
      "metadata": {
        "id": "PTVuqaSNTb4G"
      },
      "execution_count": null,
      "outputs": []
    },
    {
      "cell_type": "code",
      "source": [
        "matrix_d = np.subtract(matrix_a, matrix_b)\n",
        "print(matrix_d)"
      ],
      "metadata": {
        "id": "6Isgp-b9Tbyk"
      },
      "execution_count": null,
      "outputs": []
    },
    {
      "cell_type": "code",
      "source": [
        "scalar = 3\n",
        "matrix_e = np.multiply(matrix_a, scalar)\n",
        "print(matrix_e)\n"
      ],
      "metadata": {
        "id": "mEV_wnhFTblr"
      },
      "execution_count": null,
      "outputs": []
    }
  ]
}