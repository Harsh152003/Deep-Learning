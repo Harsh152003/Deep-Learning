{
  "nbformat": 4,
  "nbformat_minor": 0,
  "metadata": {
    "colab": {
      "provenance": [],
      "mount_file_id": "17PbfjBU4bvEiZZ6UWJ13xc3iM3JnELnL",
      "authorship_tag": "ABX9TyObUYukx1MCQZZ5wdN+MGuT",
      "include_colab_link": true
    },
    "kernelspec": {
      "name": "python3",
      "display_name": "Python 3"
    },
    "language_info": {
      "name": "python"
    }
  },
  "cells": [
    {
      "cell_type": "markdown",
      "metadata": {
        "id": "view-in-github",
        "colab_type": "text"
      },
      "source": [
        "<a href=\"https://colab.research.google.com/github/Harsh152003/Deep-Learning/blob/main/Dimensionality_Reduction_using_Autoencoders.ipynb\" target=\"_parent\"><img src=\"https://colab.research.google.com/assets/colab-badge.svg\" alt=\"Open In Colab\"/></a>"
      ]
    },
    {
      "cell_type": "code",
      "execution_count": null,
      "metadata": {
        "id": "nC8c4tgxVXCG"
      },
      "outputs": [],
      "source": [
        "import pandas as pd\n",
        "from sklearn.preprocessing import MinMaxScaler\n",
        "from tensorflow.keras.models import Model\n",
        "from tensorflow.keras.layers import Input, Dense, LeakyReLU"
      ]
    },
    {
      "cell_type": "code",
      "source": [
        "# Reading Data\n",
        "df = pd.read_csv(\"/content/drive/MyDrive/Autoencoders dataset/gafgyt_danmini_doorbell_train.csv\")\n",
        "df_test = pd.read_csv(\"/content/drive/MyDrive/Autoencoders dataset/gafgyt_danmini_doorbell_test.csv\")\n",
        "# Keeping only features columns for the train set\n",
        "df_features = df.loc[:, df.columns != \"target\"]\n",
        "y_train = df.target\n",
        "# Keeping only features for the test set\n",
        "df_features_test = df_test.loc[:, df_test.columns != \"target\"]\n",
        "y_test = df_test.target\n",
        "# Applying the normalization on the train then test set\n",
        "scaler = MinMaxScaler()\n",
        "df_features = scaler.fit_transform(df_features)\n",
        "df_features_test = scaler.transform(df_features_test)"
      ],
      "metadata": {
        "id": "N1WKyVAghQML"
      },
      "execution_count": null,
      "outputs": []
    },
    {
      "cell_type": "code",
      "source": [
        "# Implementation of the Autoencoder Model\n",
        "# input from df_features, dense64, leakyrelu, dense32, leakyrelu, dense16, tanh\n",
        "input = Input(shape=df_features.shape[1:])\n",
        "enc = Dense(64)(input)\n",
        "enc = LeakyReLU()(enc)\n",
        "enc = Dense(32)(enc)\n",
        "enc = LeakyReLU()(enc)\n",
        "# latent space with tanh\n",
        "latent_space = Dense(16, activation=\"tanh\")(enc)\n",
        "\n",
        "dec = Dense(32)(latent_space)\n",
        "dec = LeakyReLU()(dec)\n",
        "dec = Dense(64)(dec)\n",
        "dec = LeakyReLU()(dec)\n",
        "\n",
        "dec = Dense(units=df_features.shape[1], activation=\"sigmoid\")(dec)\n",
        "# init model\n",
        "autoencoder = Model(input, dec)\n",
        "# compile model\n",
        "autoencoder.compile(optimizer = \"adam\",metrics=[\"mse\"],loss=\"mse\")\n",
        "# train model\n",
        "autoencoder.fit(df_features, df_features, epochs=50, batch_size=32, validation_split=0.25)"
      ],
      "metadata": {
        "colab": {
          "base_uri": "https://localhost:8080/"
        },
        "id": "laJt_KWnheRw",
        "outputId": "617c406b-c14e-4a33-dde7-0b1291527e82"
      },
      "execution_count": null,
      "outputs": [
        {
          "output_type": "stream",
          "name": "stdout",
          "text": [
            "Epoch 1/50\n",
            "813/813 [==============================] - 4s 4ms/step - loss: 0.0073 - mse: 0.0073 - val_loss: 0.0012 - val_mse: 0.0012\n",
            "Epoch 2/50\n",
            "813/813 [==============================] - 4s 4ms/step - loss: 0.0011 - mse: 0.0011 - val_loss: 9.3959e-04 - val_mse: 9.3959e-04\n",
            "Epoch 3/50\n",
            "813/813 [==============================] - 4s 5ms/step - loss: 7.6896e-04 - mse: 7.6896e-04 - val_loss: 7.4107e-04 - val_mse: 7.4107e-04\n",
            "Epoch 4/50\n",
            "813/813 [==============================] - 3s 3ms/step - loss: 6.3512e-04 - mse: 6.3512e-04 - val_loss: 5.9026e-04 - val_mse: 5.9026e-04\n",
            "Epoch 5/50\n",
            "813/813 [==============================] - 3s 3ms/step - loss: 5.0819e-04 - mse: 5.0819e-04 - val_loss: 4.9308e-04 - val_mse: 4.9308e-04\n",
            "Epoch 6/50\n",
            "813/813 [==============================] - 3s 3ms/step - loss: 4.3169e-04 - mse: 4.3169e-04 - val_loss: 4.1541e-04 - val_mse: 4.1541e-04\n",
            "Epoch 7/50\n",
            "813/813 [==============================] - 5s 6ms/step - loss: 3.8132e-04 - mse: 3.8132e-04 - val_loss: 3.5838e-04 - val_mse: 3.5838e-04\n",
            "Epoch 8/50\n",
            "813/813 [==============================] - 3s 4ms/step - loss: 3.3638e-04 - mse: 3.3638e-04 - val_loss: 3.1892e-04 - val_mse: 3.1892e-04\n",
            "Epoch 9/50\n",
            "813/813 [==============================] - 3s 4ms/step - loss: 2.9385e-04 - mse: 2.9385e-04 - val_loss: 3.0344e-04 - val_mse: 3.0344e-04\n",
            "Epoch 10/50\n",
            "813/813 [==============================] - 2s 3ms/step - loss: 2.6285e-04 - mse: 2.6285e-04 - val_loss: 2.5196e-04 - val_mse: 2.5196e-04\n",
            "Epoch 11/50\n",
            "813/813 [==============================] - 4s 5ms/step - loss: 2.4041e-04 - mse: 2.4041e-04 - val_loss: 2.4782e-04 - val_mse: 2.4782e-04\n",
            "Epoch 12/50\n",
            "813/813 [==============================] - 3s 4ms/step - loss: 2.1423e-04 - mse: 2.1423e-04 - val_loss: 2.4074e-04 - val_mse: 2.4074e-04\n",
            "Epoch 13/50\n",
            "813/813 [==============================] - 3s 3ms/step - loss: 1.9878e-04 - mse: 1.9878e-04 - val_loss: 2.3424e-04 - val_mse: 2.3424e-04\n",
            "Epoch 14/50\n",
            "813/813 [==============================] - 3s 3ms/step - loss: 1.9528e-04 - mse: 1.9528e-04 - val_loss: 2.0745e-04 - val_mse: 2.0745e-04\n",
            "Epoch 15/50\n",
            "813/813 [==============================] - 4s 5ms/step - loss: 1.7208e-04 - mse: 1.7208e-04 - val_loss: 1.8064e-04 - val_mse: 1.8064e-04\n",
            "Epoch 16/50\n",
            "813/813 [==============================] - 4s 4ms/step - loss: 1.6155e-04 - mse: 1.6155e-04 - val_loss: 1.7607e-04 - val_mse: 1.7607e-04\n",
            "Epoch 17/50\n",
            "813/813 [==============================] - 3s 4ms/step - loss: 1.4896e-04 - mse: 1.4896e-04 - val_loss: 1.7885e-04 - val_mse: 1.7885e-04\n",
            "Epoch 18/50\n",
            "813/813 [==============================] - 3s 3ms/step - loss: 1.3722e-04 - mse: 1.3722e-04 - val_loss: 1.5957e-04 - val_mse: 1.5957e-04\n",
            "Epoch 19/50\n",
            "813/813 [==============================] - 3s 3ms/step - loss: 1.4424e-04 - mse: 1.4424e-04 - val_loss: 1.8761e-04 - val_mse: 1.8761e-04\n",
            "Epoch 20/50\n",
            "813/813 [==============================] - 6s 7ms/step - loss: 1.3365e-04 - mse: 1.3365e-04 - val_loss: 1.4187e-04 - val_mse: 1.4187e-04\n",
            "Epoch 21/50\n",
            "813/813 [==============================] - 3s 4ms/step - loss: 1.1785e-04 - mse: 1.1785e-04 - val_loss: 1.3826e-04 - val_mse: 1.3826e-04\n",
            "Epoch 22/50\n",
            "813/813 [==============================] - 2s 3ms/step - loss: 1.2105e-04 - mse: 1.2105e-04 - val_loss: 1.6941e-04 - val_mse: 1.6941e-04\n",
            "Epoch 23/50\n",
            "813/813 [==============================] - 3s 3ms/step - loss: 1.1395e-04 - mse: 1.1395e-04 - val_loss: 1.3787e-04 - val_mse: 1.3787e-04\n",
            "Epoch 24/50\n",
            "813/813 [==============================] - 3s 3ms/step - loss: 1.0801e-04 - mse: 1.0801e-04 - val_loss: 1.2527e-04 - val_mse: 1.2527e-04\n",
            "Epoch 25/50\n",
            "813/813 [==============================] - 3s 4ms/step - loss: 1.0900e-04 - mse: 1.0900e-04 - val_loss: 1.1349e-04 - val_mse: 1.1349e-04\n",
            "Epoch 26/50\n",
            "813/813 [==============================] - 3s 4ms/step - loss: 1.0048e-04 - mse: 1.0048e-04 - val_loss: 1.1819e-04 - val_mse: 1.1819e-04\n",
            "Epoch 27/50\n",
            "813/813 [==============================] - 3s 4ms/step - loss: 9.8628e-05 - mse: 9.8628e-05 - val_loss: 1.1768e-04 - val_mse: 1.1768e-04\n",
            "Epoch 28/50\n",
            "813/813 [==============================] - 3s 4ms/step - loss: 9.3919e-05 - mse: 9.3919e-05 - val_loss: 1.1809e-04 - val_mse: 1.1809e-04\n",
            "Epoch 29/50\n",
            "813/813 [==============================] - 2s 3ms/step - loss: 9.5729e-05 - mse: 9.5729e-05 - val_loss: 9.8739e-05 - val_mse: 9.8739e-05\n",
            "Epoch 30/50\n",
            "813/813 [==============================] - 4s 5ms/step - loss: 9.0792e-05 - mse: 9.0792e-05 - val_loss: 9.0188e-05 - val_mse: 9.0188e-05\n",
            "Epoch 31/50\n",
            "813/813 [==============================] - 2s 3ms/step - loss: 7.5551e-05 - mse: 7.5551e-05 - val_loss: 8.5130e-05 - val_mse: 8.5130e-05\n",
            "Epoch 32/50\n",
            "813/813 [==============================] - 3s 4ms/step - loss: 7.1429e-05 - mse: 7.1429e-05 - val_loss: 7.8895e-05 - val_mse: 7.8895e-05\n",
            "Epoch 33/50\n",
            "813/813 [==============================] - 3s 3ms/step - loss: 6.9728e-05 - mse: 6.9728e-05 - val_loss: 7.6846e-05 - val_mse: 7.6846e-05\n",
            "Epoch 34/50\n",
            "813/813 [==============================] - 4s 4ms/step - loss: 6.7571e-05 - mse: 6.7571e-05 - val_loss: 8.6602e-05 - val_mse: 8.6602e-05\n",
            "Epoch 35/50\n",
            "813/813 [==============================] - 3s 4ms/step - loss: 6.5960e-05 - mse: 6.5960e-05 - val_loss: 8.1198e-05 - val_mse: 8.1198e-05\n",
            "Epoch 36/50\n",
            "813/813 [==============================] - 3s 4ms/step - loss: 6.6534e-05 - mse: 6.6534e-05 - val_loss: 8.9764e-05 - val_mse: 8.9764e-05\n",
            "Epoch 37/50\n",
            "813/813 [==============================] - 2s 3ms/step - loss: 5.7748e-05 - mse: 5.7748e-05 - val_loss: 7.5326e-05 - val_mse: 7.5326e-05\n",
            "Epoch 38/50\n",
            "813/813 [==============================] - 3s 3ms/step - loss: 5.7832e-05 - mse: 5.7832e-05 - val_loss: 7.0030e-05 - val_mse: 7.0030e-05\n",
            "Epoch 39/50\n",
            "813/813 [==============================] - 5s 6ms/step - loss: 5.6418e-05 - mse: 5.6418e-05 - val_loss: 6.9657e-05 - val_mse: 6.9657e-05\n",
            "Epoch 40/50\n",
            "813/813 [==============================] - 3s 4ms/step - loss: 5.8115e-05 - mse: 5.8115e-05 - val_loss: 9.3979e-05 - val_mse: 9.3979e-05\n",
            "Epoch 41/50\n",
            "813/813 [==============================] - 2s 3ms/step - loss: 5.7647e-05 - mse: 5.7647e-05 - val_loss: 6.4454e-05 - val_mse: 6.4454e-05\n",
            "Epoch 42/50\n",
            "813/813 [==============================] - 3s 4ms/step - loss: 6.1970e-05 - mse: 6.1970e-05 - val_loss: 7.7485e-05 - val_mse: 7.7485e-05\n",
            "Epoch 43/50\n",
            "813/813 [==============================] - 3s 4ms/step - loss: 5.5581e-05 - mse: 5.5581e-05 - val_loss: 6.8766e-05 - val_mse: 6.8766e-05\n",
            "Epoch 44/50\n",
            "813/813 [==============================] - 4s 5ms/step - loss: 5.0508e-05 - mse: 5.0508e-05 - val_loss: 6.3856e-05 - val_mse: 6.3856e-05\n",
            "Epoch 45/50\n",
            "813/813 [==============================] - 3s 3ms/step - loss: 5.1045e-05 - mse: 5.1045e-05 - val_loss: 7.0472e-05 - val_mse: 7.0472e-05\n",
            "Epoch 46/50\n",
            "813/813 [==============================] - 3s 3ms/step - loss: 5.4576e-05 - mse: 5.4576e-05 - val_loss: 6.5638e-05 - val_mse: 6.5638e-05\n",
            "Epoch 47/50\n",
            "813/813 [==============================] - 2s 3ms/step - loss: 5.3503e-05 - mse: 5.3503e-05 - val_loss: 7.0992e-05 - val_mse: 7.0992e-05\n",
            "Epoch 48/50\n",
            "813/813 [==============================] - 4s 5ms/step - loss: 5.0273e-05 - mse: 5.0273e-05 - val_loss: 7.7477e-05 - val_mse: 7.7477e-05\n",
            "Epoch 49/50\n",
            "813/813 [==============================] - 4s 4ms/step - loss: 5.3805e-05 - mse: 5.3805e-05 - val_loss: 7.4926e-05 - val_mse: 7.4926e-05\n",
            "Epoch 50/50\n",
            "813/813 [==============================] - 3s 3ms/step - loss: 5.0206e-05 - mse: 5.0206e-05 - val_loss: 6.7694e-05 - val_mse: 6.7694e-05\n"
          ]
        },
        {
          "output_type": "execute_result",
          "data": {
            "text/plain": [
              "<keras.src.callbacks.History at 0x7969abbcb4f0>"
            ]
          },
          "metadata": {},
          "execution_count": 5
        }
      ]
    },
    {
      "cell_type": "code",
      "source": [
        "encoder = Model(input, latent_space)"
      ],
      "metadata": {
        "id": "OItarpOUi7XO"
      },
      "execution_count": null,
      "outputs": []
    },
    {
      "cell_type": "markdown",
      "source": [
        "#Applying Feature Extraction & Dimensionality Reduction"
      ],
      "metadata": {
        "id": "QyXCQsw6jXmM"
      }
    },
    {
      "cell_type": "code",
      "source": [
        "test_au_features = encoder.predict(df_features_test)"
      ],
      "metadata": {
        "colab": {
          "base_uri": "https://localhost:8080/"
        },
        "id": "GnfnhpgsjAZY",
        "outputId": "8756c518-31cb-463c-df8b-6d7504b6f5c8"
      },
      "execution_count": null,
      "outputs": [
        {
          "output_type": "stream",
          "name": "stdout",
          "text": [
            "489/489 [==============================] - 1s 1ms/step\n"
          ]
        }
      ]
    },
    {
      "cell_type": "code",
      "source": [
        "print(test_au_features.shape)"
      ],
      "metadata": {
        "colab": {
          "base_uri": "https://localhost:8080/"
        },
        "id": "l4sjE82GjFu3",
        "outputId": "d4ee6883-dcac-4934-e255-7bb3bcee9adb"
      },
      "execution_count": null,
      "outputs": [
        {
          "output_type": "stream",
          "name": "stdout",
          "text": [
            "(15647, 16)\n"
          ]
        }
      ]
    }
  ]
}