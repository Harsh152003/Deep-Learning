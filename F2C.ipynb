{
  "nbformat": 4,
  "nbformat_minor": 0,
  "metadata": {
    "colab": {
      "provenance": [],
      "authorship_tag": "ABX9TyMFlXxlz4vs/YYqYf4RIouv",
      "include_colab_link": true
    },
    "kernelspec": {
      "name": "python3",
      "display_name": "Python 3"
    },
    "language_info": {
      "name": "python"
    }
  },
  "cells": [
    {
      "cell_type": "markdown",
      "metadata": {
        "id": "view-in-github",
        "colab_type": "text"
      },
      "source": [
        "<a href=\"https://colab.research.google.com/github/Harsh152003/Deep-Learning/blob/main/F2C.ipynb\" target=\"_parent\"><img src=\"https://colab.research.google.com/assets/colab-badge.svg\" alt=\"Open In Colab\"/></a>"
      ]
    },
    {
      "cell_type": "code",
      "execution_count": 1,
      "metadata": {
        "id": "LkFLcOk7d02w"
      },
      "outputs": [],
      "source": [
        "import pandas as pd\n",
        "from sklearn.model_selection import train_test_split\n",
        "import numpy as np\n",
        "from tensorflow.keras.models import Sequential\n",
        "from tensorflow.keras.layers import Dense\n",
        "from tensorflow.keras.optimizers import Adam"
      ]
    },
    {
      "cell_type": "code",
      "source": [
        "# Load data from CSV file\n",
        "data = pd.read_csv(\"training.csv\")\n"
      ],
      "metadata": {
        "id": "Ls5q4Z4sejTC"
      },
      "execution_count": 2,
      "outputs": []
    },
    {
      "cell_type": "code",
      "source": [
        "# Assuming the last column is the label, and rest are features\n",
        "X = data.iloc[:, :-1].values\n",
        "y = data.iloc[:, -1].values\n"
      ],
      "metadata": {
        "id": "k7PpEuYJesp-"
      },
      "execution_count": 3,
      "outputs": []
    },
    {
      "cell_type": "code",
      "source": [
        "# Split data into training and validation sets\n",
        "X_train, X_val, y_train, y_val = train_test_split(X, y, test_size=0.2, random_state=42)\n"
      ],
      "metadata": {
        "id": "Xmtm9uX5eyBu"
      },
      "execution_count": 4,
      "outputs": []
    },
    {
      "cell_type": "code",
      "source": [
        "def create_model(neurons_1, neurons_2, optimizer):\n",
        "    model = Sequential()\n",
        "    model.add(Dense(neurons_1, input_dim=X_train.shape[1], activation='relu'))\n",
        "    model.add(Dense(neurons_2, activation='relu'))\n",
        "    model.add(Dense(1, activation='sigmoid'))\n",
        "    model.compile(loss='binary_crossentropy', optimizer=optimizer, metrics=['accuracy'])\n",
        "    return model\n",
        "\n"
      ],
      "metadata": {
        "id": "1l39y2Nde1TJ"
      },
      "execution_count": 15,
      "outputs": []
    },
    {
      "cell_type": "code",
      "source": [
        "# Define different configurations\n",
        "configurations = [\n",
        "    (64, 64, 'adam'),\n",
        "    (128, 128, 'adam'),\n",
        "    (64, 128, 'adam'),\n",
        "    (128, 64, 'adam'),\n",
        "]"
      ],
      "metadata": {
        "id": "j6-NV-Cee60e"
      },
      "execution_count": 16,
      "outputs": []
    },
    {
      "cell_type": "code",
      "source": [
        "# Store results in a dictionary\n",
        "results = {}\n"
      ],
      "metadata": {
        "id": "cs8eJe9BfuQ_"
      },
      "execution_count": 17,
      "outputs": []
    },
    {
      "cell_type": "code",
      "source": [
        "# Train models and store results\n",
        "for i, (neurons_1, neurons_2, optimizer) in enumerate(configurations):\n",
        "    model = create_model(neurons_1, neurons_2, optimizer)\n",
        "    history = model.fit(X_train, y_train, epochs=10, batch_size=32, validation_data=(X_val, y_val), verbose=0)\n",
        "    results[f'Model_{i+1}'] = {\n",
        "        'optimizer': optimizer,\n",
        "        'train_accuracy': history.history['accuracy'][-1],\n",
        "        'val_accuracy': history.history['val_accuracy'][-1],\n",
        "        'train_loss': history.history['loss'][-1],\n",
        "        'val_loss': history.history['val_loss'][-1],\n",
        "    }"
      ],
      "metadata": {
        "id": "pWJi9Izmf3a9"
      },
      "execution_count": 18,
      "outputs": []
    },
    {
      "cell_type": "code",
      "source": [
        "# Display results in a table\n",
        "results_df = pd.DataFrame.from_dict(results, orient='index')\n",
        "print(results_df)\n"
      ],
      "metadata": {
        "colab": {
          "base_uri": "https://localhost:8080/"
        },
        "id": "EjFmWfRygCmk",
        "outputId": "9ad805e0-4344-4c89-a9ad-7927c43d5524"
      },
      "execution_count": 19,
      "outputs": [
        {
          "output_type": "stream",
          "name": "stdout",
          "text": [
            "        optimizer  train_accuracy  val_accuracy    train_loss      val_loss\n",
            "Model_1      adam             0.0           0.0 -7.081208e+11 -7.904510e+11\n",
            "Model_2      adam             0.0           0.0 -2.846231e+12 -3.177409e+12\n",
            "Model_3      adam             0.0           0.0 -1.142488e+12 -1.276109e+12\n",
            "Model_4      adam             0.0           0.0 -1.101473e+12 -1.229082e+12\n"
          ]
        }
      ]
    },
    {
      "cell_type": "code",
      "source": [
        "# Predict one value using the first model\n",
        "sample_input = X_val[0].reshape(1, -1)\n",
        "predicted_value = model.predict(sample_input)\n",
        "print(f\"Predicted Value for Sample Input: {predicted_value}\")"
      ],
      "metadata": {
        "colab": {
          "base_uri": "https://localhost:8080/"
        },
        "id": "S-lEwTmCgH8j",
        "outputId": "873fe501-3f8d-459f-d2bd-01296557f420"
      },
      "execution_count": 20,
      "outputs": [
        {
          "output_type": "stream",
          "name": "stdout",
          "text": [
            "1/1 [==============================] - 0s 94ms/step\n",
            "Predicted Value for Sample Input: [[1.]]\n"
          ]
        }
      ]
    }
  ]
}